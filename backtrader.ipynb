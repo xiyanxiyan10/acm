{
  "nbformat": 4,
  "nbformat_minor": 0,
  "metadata": {
    "colab": {
      "name": "backtrader.ipynb",
      "provenance": [],
      "collapsed_sections": [],
      "authorship_tag": "ABX9TyMZatSVI3I8qp0Iro8WgFDO",
      "include_colab_link": true
    },
    "kernelspec": {
      "name": "python3",
      "display_name": "Python 3"
    },
    "language_info": {
      "name": "python"
    }
  },
  "cells": [
    {
      "cell_type": "markdown",
      "metadata": {
        "id": "view-in-github",
        "colab_type": "text"
      },
      "source": [
        "<a href=\"https://colab.research.google.com/github/xiyanxiyan10/acm/blob/quant/backtrader.ipynb\" target=\"_parent\"><img src=\"https://colab.research.google.com/assets/colab-badge.svg\" alt=\"Open In Colab\"/></a>"
      ]
    },
    {
      "cell_type": "code",
      "metadata": {
        "id": "PG_A-Y9aFzAw"
      },
      "source": [
        "!pip install backtrader\n",
        "!pip install tushare\n",
        "import backtrader as bt\n",
        "import tushare as ts\n",
        "import pandas as pd\n",
        "from datetime import datetime"
      ],
      "execution_count": null,
      "outputs": []
    },
    {
      "cell_type": "code",
      "metadata": {
        "id": "UEiZb2IKRDKB"
      },
      "source": [
        "# data cleaning\n",
        "# get date from tushare\n",
        "ts.set_token('')\n",
        "\n",
        "pro = ts.pro_api()\n",
        "\n",
        "df = pro.coin_bar(start_date='20210615', end_date='20210616',\n",
        "                  freq='5min', exchange='huobi', ts_code='ETH_USDT')\n",
        "\n",
        "df.rename(columns={'trade_time':'datetime', 'vol':'volume'}, inplace=True)\n",
        "df['datetime']=df.datetime.apply(lambda x:pd.to_datetime(x))\n",
        "df['openinterest']=0\n",
        "df.index=pd.to_datetime(df.datetime)\n",
        "\n",
        "print(df)\n",
        "\n",
        "\n",
        "#回测期间\n",
        "start=datetime(2021, 6, 15)\n",
        "end=datetime(2021, 6, 16)\n",
        "# 加载数据\n",
        "data = bt.feeds.PandasData(dataname=df,fromdate=start,todate=end)"
      ],
      "execution_count": null,
      "outputs": []
    },
    {
      "cell_type": "code",
      "metadata": {
        "id": "RRdkqeVOm-kk"
      },
      "source": [
        "# policy \n",
        "class MacdStrategy(bt.Strategy):\n",
        "    \"\"\"\n",
        "    继承并构建自己的bt策略\n",
        "    \"\"\"\n",
        "\n",
        "    def log(self, txt, dt=None, doprint=False):\n",
        "        ''' 日志函数，用于统一输出日志格式 '''\n",
        "        if doprint:\n",
        "            dt = dt or self.datas[0].datetime.date(0)\n",
        "            print('%s, %s' % (dt.isoformat(), txt))\n",
        "\n",
        "    def __init__(self):\n",
        "\n",
        "        # 初始化相关数据\n",
        "        self.dataclose = self.datas[0].close\n",
        "        self.order = None\n",
        "        self.buyprice = None\n",
        "        self.buycomm = None\n",
        "\n",
        "        # 五日移动平均线\n",
        "        self.sma5 = bt.indicators.SimpleMovingAverage(\n",
        "            self.datas[0], period=5)\n",
        "        # 十日移动平均线\n",
        "        self.sma10 = bt.indicators.SimpleMovingAverage(\n",
        "            self.datas[0], period=10)\n",
        "\n",
        "    def notify_order(self, order):\n",
        "        \"\"\"\n",
        "        订单状态处理\n",
        "\n",
        "        Arguments:\n",
        "            order {object} -- 订单状态\n",
        "        \"\"\"\n",
        "        if order.status in [order.Submitted, order.Accepted]:\n",
        "            # 如订单已被处理，则不用做任何事情\n",
        "            return\n",
        "\n",
        "        # 检查订单是否完成\n",
        "        if order.status in [order.Completed]:\n",
        "            if order.isbuy():\n",
        "                self.buyprice = order.executed.price\n",
        "                self.buycomm = order.executed.comm\n",
        "            self.bar_executed = len(self)\n",
        "\n",
        "        # 订单因为缺少资金之类的原因被拒绝执行\n",
        "        elif order.status in [order.Canceled, order.Margin, order.Rejected]:\n",
        "            self.log('Order Canceled/Margin/Rejected')\n",
        "\n",
        "        # 订单状态处理完成，设为空\n",
        "        self.order = None\n",
        "\n",
        "    def notify_trade(self, trade):\n",
        "        \"\"\"\n",
        "        交易成果\n",
        "        \n",
        "        Arguments:\n",
        "            trade {object} -- 交易状态\n",
        "        \"\"\"\n",
        "        if not trade.isclosed:\n",
        "            return\n",
        "\n",
        "        # 显示交易的毛利率和净利润\n",
        "        self.log('OPERATION PROFIT, GROSS %.2f, NET %.2f' %\n",
        "                 (trade.pnl, trade.pnlcomm), doprint=True)\n",
        "\n",
        "    def next(self):\n",
        "        ''' 下一次执行 '''\n",
        "        print(self.dataclose[0])\n",
        "        # 记录收盘价\n",
        "        self.log('Close, %.2f' % self.dataclose[0])\n",
        "\n",
        "        # 是否正在下单，如果是的话不能提交第二次订单\n",
        "        if self.order:\n",
        "            return\n",
        "\n",
        "        # 是否已经买入\n",
        "        if not self.position:\n",
        "            # 还没买，如果 MA5 > MA10 说明涨势，买入\n",
        "            if self.sma5[0] > self.sma10[0]:\n",
        "                self.order = self.buy()\n",
        "        else:\n",
        "            # 已经买了，如果 MA5 < MA10 ，说明跌势，卖出\n",
        "            if self.sma5[0] < self.sma10[0]:\n",
        "                self.order = self.sell()\n",
        "\n",
        "    def stop(self):\n",
        "        self.log(u'(金叉死叉有用吗) Ending Value %.2f' %\n",
        "                 (self.broker.getvalue()), doprint=True)"
      ],
      "execution_count": null,
      "outputs": []
    },
    {
      "cell_type": "code",
      "metadata": {
        "id": "NvR-1d_ZRY-N"
      },
      "source": [
        "cerebro = bt.Cerebro()\n",
        "cerebro.adddata(data=data)\n",
        "cerebro.addstrategy(MacdStrategy)\n",
        "startcash=1000\n",
        "cerebro.broker.setcash(startcash)\n",
        "cerebro.broker.setcommission(commission=0.002)"
      ],
      "execution_count": null,
      "outputs": []
    },
    {
      "cell_type": "code",
      "metadata": {
        "id": "0bJS8EtCRbKP"
      },
      "source": [
        "d1=start.strftime('%Y%m%d')\n",
        "d2=end.strftime('%Y%m%d')\n",
        "print(f'初始资金: {startcash}\\n回测期间：{d1}:{d2}')\n",
        "#运行回测系统\n",
        "\n",
        "cerebro.run()\n",
        "cerebro.plot()\n",
        "#portvalue = cerebro.broker.getvalue()\n",
        "#pnl = portvalue - startcash\n",
        "#打印结果\n",
        "#print(f'总资金: {round(portvalue,2)}')"
      ],
      "execution_count": null,
      "outputs": []
    },
    {
      "cell_type": "markdown",
      "metadata": {
        "id": "XMub1zuuH9_M"
      },
      "source": [
        ""
      ]
    }
  ]
}